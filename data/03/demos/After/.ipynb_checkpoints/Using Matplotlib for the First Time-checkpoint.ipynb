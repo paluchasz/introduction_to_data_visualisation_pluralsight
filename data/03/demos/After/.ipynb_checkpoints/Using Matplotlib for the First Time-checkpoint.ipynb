{
 "cells": [
  {
   "cell_type": "code",
   "execution_count": null,
   "metadata": {
    "collapsed": false
   },
   "outputs": [],
   "source": [
    "from matplotlib import pyplot as plt\n",
    "\n",
    "# NOTE: The pyplot module is a simple interface for matplotlib."
   ]
  },
  {
   "cell_type": "code",
   "execution_count": null,
   "metadata": {
    "collapsed": false
   },
   "outputs": [],
   "source": [
    "plt.plot([1, 2, 3], [1, 4, 9])\n",
    "plt.xlabel('this is x axis')\n",
    "plt.ylabel('this is y axis')\n",
    "plt.title('This is the plot title.')\n",
    "plt.show()"
   ]
  },
  {
   "cell_type": "code",
   "execution_count": null,
   "metadata": {
    "collapsed": false
   },
   "outputs": [],
   "source": [
    "plt.plot([1, 2, 3], [1, 4, 9])\n",
    "plt.plot([1, 2, 3], [10, 20, 30])\n",
    "plt.legend(['Data Set 1', 'Data Set 2'])\n",
    "# plt.legend() takes a list as an argument.\n",
    "plt.show()\n",
    "#  plt.savefig('exported_image')"
   ]
  }
 ],
 "metadata": {
  "anaconda-cloud": {},
  "kernelspec": {
   "display_name": "Python 3",
   "language": "python",
   "name": "python3"
  },
  "language_info": {
   "codemirror_mode": {
    "name": "ipython",
    "version": 3
   },
   "file_extension": ".py",
   "mimetype": "text/x-python",
   "name": "python",
   "nbconvert_exporter": "python",
   "pygments_lexer": "ipython3",
   "version": "3.6.0"
  }
 },
 "nbformat": 4,
 "nbformat_minor": 2
}
